{
 "cells": [
  {
   "cell_type": "code",
   "execution_count": 2,
   "id": "ffb8c4b0-f5c9-48d2-aec1-3a44f11b50de",
   "metadata": {},
   "outputs": [],
   "source": [
    "import numpy as np #core feature of numpy is array"
   ]
  },
  {
   "cell_type": "code",
   "execution_count": 3,
   "id": "c20560b2-610d-4916-b6c0-c9592ee4d099",
   "metadata": {},
   "outputs": [
    {
     "data": {
      "text/plain": [
       "'2.3.1'"
      ]
     },
     "execution_count": 3,
     "metadata": {},
     "output_type": "execute_result"
    }
   ],
   "source": [
    "np.__version__"
   ]
  },
  {
   "cell_type": "markdown",
   "id": "a0fc6824-946c-4ca8-ad27-601327d2becf",
   "metadata": {},
   "source": [
    "## Create & Read"
   ]
  },
  {
   "cell_type": "markdown",
   "id": "4edaca50-8432-4172-8b43-3043617080a0",
   "metadata": {},
   "source": [
    "#### 1D Array"
   ]
  },
  {
   "cell_type": "code",
   "execution_count": null,
   "id": "a2ce9bc8-6875-442c-bf3d-a8b9b1d207bf",
   "metadata": {},
   "outputs": [],
   "source": [
    "## or #### esc m shift+enter"
   ]
  },
  {
   "cell_type": "code",
   "execution_count": 12,
   "id": "e4936696-30d7-43ca-a3d8-6de31bf3eeb3",
   "metadata": {},
   "outputs": [
    {
     "data": {
      "text/plain": [
       "array([1, 2, 3, 4, 5, 6])"
      ]
     },
     "execution_count": 12,
     "metadata": {},
     "output_type": "execute_result"
    }
   ],
   "source": [
    "arr1= np.array([1,2,3,4,5,6])\n",
    "arr1"
   ]
  },
  {
   "cell_type": "code",
   "execution_count": 6,
   "id": "ccaa61aa-5f11-47d3-917c-3803f8563651",
   "metadata": {},
   "outputs": [
    {
     "data": {
      "text/plain": [
       "numpy.ndarray"
      ]
     },
     "execution_count": 6,
     "metadata": {},
     "output_type": "execute_result"
    }
   ],
   "source": [
    "type(arr1)"
   ]
  },
  {
   "cell_type": "code",
   "execution_count": 14,
   "id": "506a6669-6824-4bc0-a16e-1dc2ec509f55",
   "metadata": {},
   "outputs": [
    {
     "data": {
      "text/plain": [
       "(6,)"
      ]
     },
     "execution_count": 14,
     "metadata": {},
     "output_type": "execute_result"
    }
   ],
   "source": [
    "arr1.shape"
   ]
  },
  {
   "cell_type": "code",
   "execution_count": 8,
   "id": "6482a133-533d-40dc-bc80-6fdb755fe719",
   "metadata": {},
   "outputs": [
    {
     "data": {
      "text/plain": [
       "dtype('int64')"
      ]
     },
     "execution_count": 8,
     "metadata": {},
     "output_type": "execute_result"
    }
   ],
   "source": [
    "arr1.dtype"
   ]
  },
  {
   "cell_type": "code",
   "execution_count": 9,
   "id": "f6dfc28b-608d-4edc-a418-f2bdd8c47e79",
   "metadata": {},
   "outputs": [
    {
     "data": {
      "text/plain": [
       "1"
      ]
     },
     "execution_count": 9,
     "metadata": {},
     "output_type": "execute_result"
    }
   ],
   "source": [
    "arr1.ndim"
   ]
  },
  {
   "cell_type": "code",
   "execution_count": 13,
   "id": "35cd3b16-1312-4517-91c8-1fd0352791c8",
   "metadata": {},
   "outputs": [
    {
     "data": {
      "text/plain": [
       "6"
      ]
     },
     "execution_count": 13,
     "metadata": {},
     "output_type": "execute_result"
    }
   ],
   "source": [
    "arr1.size"
   ]
  },
  {
   "cell_type": "markdown",
   "id": "1db62384-db09-4df3-879c-42f00aba3f9f",
   "metadata": {},
   "source": [
    "#### 2D Array"
   ]
  },
  {
   "cell_type": "code",
   "execution_count": 16,
   "id": "5b201ef9-31ba-4092-bd30-bbc25d5ed7b8",
   "metadata": {},
   "outputs": [
    {
     "data": {
      "text/plain": [
       "array([[1, 4, 5],\n",
       "       [6, 7, 4]])"
      ]
     },
     "execution_count": 16,
     "metadata": {},
     "output_type": "execute_result"
    }
   ],
   "source": [
    "arr2=np.array([[1,4,5],[6,7,4]])\n",
    "arr2"
   ]
  },
  {
   "cell_type": "code",
   "execution_count": 17,
   "id": "ac941239-c566-4c87-bd71-c2d7407134b1",
   "metadata": {},
   "outputs": [
    {
     "data": {
      "text/plain": [
       "2"
      ]
     },
     "execution_count": 17,
     "metadata": {},
     "output_type": "execute_result"
    }
   ],
   "source": [
    "arr2.ndim"
   ]
  },
  {
   "cell_type": "code",
   "execution_count": 18,
   "id": "bc99144c-0800-4ef6-9467-40c392feb798",
   "metadata": {},
   "outputs": [
    {
     "data": {
      "text/plain": [
       "(2, 3)"
      ]
     },
     "execution_count": 18,
     "metadata": {},
     "output_type": "execute_result"
    }
   ],
   "source": [
    "arr2.shape #(row,col)"
   ]
  },
  {
   "cell_type": "code",
   "execution_count": 19,
   "id": "008e6953-b1cd-49ec-b70a-941e6cfe4010",
   "metadata": {},
   "outputs": [
    {
     "data": {
      "text/plain": [
       "dtype('int64')"
      ]
     },
     "execution_count": 19,
     "metadata": {},
     "output_type": "execute_result"
    }
   ],
   "source": [
    "arr2.dtype"
   ]
  },
  {
   "cell_type": "code",
   "execution_count": 22,
   "id": "023ecb7a-1249-4f3e-8261-40acf427d89c",
   "metadata": {},
   "outputs": [
    {
     "data": {
      "text/plain": [
       "6"
      ]
     },
     "execution_count": 22,
     "metadata": {},
     "output_type": "execute_result"
    }
   ],
   "source": [
    "arr2.size"
   ]
  },
  {
   "cell_type": "code",
   "execution_count": null,
   "id": "935e2a82-d98b-4e80-98bb-f386e5467184",
   "metadata": {},
   "outputs": [],
   "source": []
  },
  {
   "cell_type": "markdown",
   "id": "a3a663e8-0db4-462f-af30-1311cac46cc4",
   "metadata": {},
   "source": [
    "#### 3D Array"
   ]
  },
  {
   "cell_type": "code",
   "execution_count": 29,
   "id": "d5fb4c34-44f1-4cc6-b0e8-48984b48a97f",
   "metadata": {},
   "outputs": [],
   "source": [
    "arr3=np.array([[[1,4,5],[6,7,4]], [[3,5,4],[5,8,7]],[[3,2,8],[9,4,1]]])"
   ]
  },
  {
   "cell_type": "code",
   "execution_count": 30,
   "id": "6d5e63fd-2064-42b6-a23a-bf31b57a40e3",
   "metadata": {},
   "outputs": [
    {
     "data": {
      "text/plain": [
       "array([[[1, 4, 5],\n",
       "        [6, 7, 4]],\n",
       "\n",
       "       [[3, 5, 4],\n",
       "        [5, 8, 7]],\n",
       "\n",
       "       [[3, 2, 8],\n",
       "        [9, 4, 1]]])"
      ]
     },
     "execution_count": 30,
     "metadata": {},
     "output_type": "execute_result"
    }
   ],
   "source": [
    "arr3"
   ]
  },
  {
   "cell_type": "code",
   "execution_count": 31,
   "id": "a9a37453-c229-4d2d-a5c8-73d8286d62ec",
   "metadata": {},
   "outputs": [
    {
     "data": {
      "text/plain": [
       "3"
      ]
     },
     "execution_count": 31,
     "metadata": {},
     "output_type": "execute_result"
    }
   ],
   "source": [
    "arr3.ndim"
   ]
  },
  {
   "cell_type": "code",
   "execution_count": 34,
   "id": "dc0fe968-477f-4ffe-9003-ae8465e8e311",
   "metadata": {},
   "outputs": [
    {
     "data": {
      "text/plain": [
       "(3, 2, 3)"
      ]
     },
     "execution_count": 34,
     "metadata": {},
     "output_type": "execute_result"
    }
   ],
   "source": [
    "arr3.shape #3 layer or 3 2-d, 2 row, 3 column"
   ]
  },
  {
   "cell_type": "code",
   "execution_count": 35,
   "id": "915ba937-7999-43b7-9c49-95ee3439c6c3",
   "metadata": {},
   "outputs": [
    {
     "data": {
      "text/plain": [
       "18"
      ]
     },
     "execution_count": 35,
     "metadata": {},
     "output_type": "execute_result"
    }
   ],
   "source": [
    "arr3.size"
   ]
  },
  {
   "cell_type": "markdown",
   "id": "11f9a5d9-d5e9-48a2-813f-7c5814bea133",
   "metadata": {},
   "source": [
    "### Create random array"
   ]
  },
  {
   "cell_type": "code",
   "execution_count": 42,
   "id": "624e4f7d-773b-4a48-8dff-c3bf174dc88a",
   "metadata": {},
   "outputs": [
    {
     "data": {
      "text/plain": [
       "array([[[0.81007753, 0.84146322, 0.66022989],\n",
       "        [0.76479281, 0.65240737, 0.40022587]],\n",
       "\n",
       "       [[0.64333527, 0.75184417, 0.76424049],\n",
       "        [0.79423984, 0.23514651, 0.63763846]],\n",
       "\n",
       "       [[0.16408094, 0.04190926, 0.81363265],\n",
       "        [0.46018345, 0.17309555, 0.51010402]]])"
      ]
     },
     "execution_count": 42,
     "metadata": {},
     "output_type": "execute_result"
    }
   ],
   "source": [
    "randomArr = np.random.rand(3,2,3)\n",
    "randomArr"
   ]
  },
  {
   "cell_type": "code",
   "execution_count": 43,
   "id": "6acd03c9-8b57-475e-9dc5-edd7cddc32ed",
   "metadata": {},
   "outputs": [
    {
     "data": {
      "text/plain": [
       "dtype('float64')"
      ]
     },
     "execution_count": 43,
     "metadata": {},
     "output_type": "execute_result"
    }
   ],
   "source": [
    "randomArr.dtype"
   ]
  },
  {
   "cell_type": "code",
   "execution_count": 45,
   "id": "134c783c-1740-458f-8ae5-0675dca40d68",
   "metadata": {},
   "outputs": [
    {
     "data": {
      "text/plain": [
       "array([[[0., 0., 0.],\n",
       "        [0., 0., 0.]],\n",
       "\n",
       "       [[0., 0., 0.],\n",
       "        [0., 0., 0.]],\n",
       "\n",
       "       [[0., 0., 0.],\n",
       "        [0., 0., 0.]]])"
      ]
     },
     "execution_count": 45,
     "metadata": {},
     "output_type": "execute_result"
    }
   ],
   "source": [
    "zeroes=np.zeros((3,2,3))\n",
    "zeroes"
   ]
  },
  {
   "cell_type": "code",
   "execution_count": 46,
   "id": "8d8eecc5-bc28-4397-a825-33cbef7babc3",
   "metadata": {},
   "outputs": [
    {
     "data": {
      "text/plain": [
       "3"
      ]
     },
     "execution_count": 46,
     "metadata": {},
     "output_type": "execute_result"
    }
   ],
   "source": [
    "zeroes.ndim"
   ]
  },
  {
   "cell_type": "code",
   "execution_count": 47,
   "id": "576f00c2-0244-43f1-b3de-ae0b34c652b0",
   "metadata": {},
   "outputs": [
    {
     "data": {
      "text/plain": [
       "array([[[9, 9, 9],\n",
       "        [9, 9, 9]],\n",
       "\n",
       "       [[9, 9, 9],\n",
       "        [9, 9, 9]],\n",
       "\n",
       "       [[9, 9, 9],\n",
       "        [9, 9, 9]]])"
      ]
     },
     "execution_count": 47,
     "metadata": {},
     "output_type": "execute_result"
    }
   ],
   "source": [
    "full= np.full((3,2,3),9)\n",
    "full"
   ]
  },
  {
   "cell_type": "code",
   "execution_count": 50,
   "id": "0b040010-d927-420e-a670-8dcfa7febb80",
   "metadata": {},
   "outputs": [
    {
     "data": {
      "text/plain": [
       "array([[[1., 1., 1.],\n",
       "        [1., 1., 1.]],\n",
       "\n",
       "       [[1., 1., 1.],\n",
       "        [1., 1., 1.]],\n",
       "\n",
       "       [[1., 1., 1.],\n",
       "        [1., 1., 1.]]])"
      ]
     },
     "execution_count": 50,
     "metadata": {},
     "output_type": "execute_result"
    }
   ],
   "source": [
    "ones= np.ones((3,2,3))\n",
    "ones"
   ]
  },
  {
   "cell_type": "code",
   "execution_count": 51,
   "id": "bb15d5df-31ea-4773-a5ac-495b2c29d2fa",
   "metadata": {},
   "outputs": [
    {
     "data": {
      "text/plain": [
       "array([[[1, 4, 5],\n",
       "        [6, 7, 4]],\n",
       "\n",
       "       [[3, 5, 4],\n",
       "        [5, 8, 7]],\n",
       "\n",
       "       [[3, 2, 8],\n",
       "        [9, 4, 1]]])"
      ]
     },
     "execution_count": 51,
     "metadata": {},
     "output_type": "execute_result"
    }
   ],
   "source": [
    "arr3"
   ]
  },
  {
   "cell_type": "code",
   "execution_count": 53,
   "id": "f6982fd8-d211-4b0f-8614-269dbdd8ea35",
   "metadata": {},
   "outputs": [
    {
     "data": {
      "text/plain": [
       "np.int64(4)"
      ]
     },
     "execution_count": 53,
     "metadata": {},
     "output_type": "execute_result"
    }
   ],
   "source": [
    "arr3[0][0][0]"
   ]
  },
  {
   "cell_type": "code",
   "execution_count": 54,
   "id": "b15cfb74-84fb-404e-a775-97022b976728",
   "metadata": {},
   "outputs": [
    {
     "data": {
      "text/plain": [
       "array([1, 4, 5])"
      ]
     },
     "execution_count": 54,
     "metadata": {},
     "output_type": "execute_result"
    }
   ],
   "source": [
    "arr3[0][0]"
   ]
  },
  {
   "cell_type": "code",
   "execution_count": 55,
   "id": "9c16f354-5081-4f70-8628-0f3e8c2dd822",
   "metadata": {},
   "outputs": [
    {
     "data": {
      "text/plain": [
       "array([[1, 4, 5],\n",
       "       [6, 7, 4]])"
      ]
     },
     "execution_count": 55,
     "metadata": {},
     "output_type": "execute_result"
    }
   ],
   "source": [
    "arr3[0]"
   ]
  },
  {
   "cell_type": "code",
   "execution_count": 56,
   "id": "f35eb7ff-8ffa-48ba-89e5-bde0a7894d11",
   "metadata": {},
   "outputs": [
    {
     "data": {
      "text/plain": [
       "array([[[1, 4, 5],\n",
       "        [6, 7, 4]],\n",
       "\n",
       "       [[3, 5, 4],\n",
       "        [5, 8, 7]]])"
      ]
     },
     "execution_count": 56,
     "metadata": {},
     "output_type": "execute_result"
    }
   ],
   "source": [
    "arr3[0:2]"
   ]
  },
  {
   "cell_type": "code",
   "execution_count": 58,
   "id": "01e54cb1-230d-483e-aab7-8c066e40195c",
   "metadata": {},
   "outputs": [
    {
     "data": {
      "text/plain": [
       "array([[3, 2, 8],\n",
       "       [9, 4, 1]])"
      ]
     },
     "execution_count": 58,
     "metadata": {},
     "output_type": "execute_result"
    }
   ],
   "source": [
    "arr3[-1]"
   ]
  },
  {
   "cell_type": "code",
   "execution_count": 60,
   "id": "10e1e6d1-4934-4979-8f04-56652a1c1cc2",
   "metadata": {},
   "outputs": [
    {
     "data": {
      "text/plain": [
       "np.int64(5)"
      ]
     },
     "execution_count": 60,
     "metadata": {},
     "output_type": "execute_result"
    }
   ],
   "source": [
    "arr3[1][0][1]"
   ]
  },
  {
   "cell_type": "code",
   "execution_count": 61,
   "id": "de717640-f4bb-4b5c-9539-a5a607f2b0dc",
   "metadata": {},
   "outputs": [
    {
     "data": {
      "text/plain": [
       "np.int64(5)"
      ]
     },
     "execution_count": 61,
     "metadata": {},
     "output_type": "execute_result"
    }
   ],
   "source": [
    "arr3[1,0,1]"
   ]
  },
  {
   "cell_type": "markdown",
   "id": "fccab4ef-5600-49e2-99ae-0e224b535aad",
   "metadata": {},
   "source": [
    "## Update & Delete"
   ]
  },
  {
   "cell_type": "code",
   "execution_count": 63,
   "id": "ce82232c-b2e6-4dad-86ce-4662a0c71ddd",
   "metadata": {},
   "outputs": [],
   "source": [
    " a1=np.random.rand(2,3,2)\n",
    " a2=np.random.rand(2,3,2)"
   ]
  },
  {
   "cell_type": "code",
   "execution_count": 64,
   "id": "499e9d7c-07c4-477b-8463-e50ad49cc463",
   "metadata": {},
   "outputs": [
    {
     "data": {
      "text/plain": [
       "array([[[0.88700324, 0.1553155 ],\n",
       "        [0.83091724, 0.62877303],\n",
       "        [0.2141456 , 0.48882704]],\n",
       "\n",
       "       [[0.68608828, 0.60107313],\n",
       "        [0.96851418, 0.98537601],\n",
       "        [0.22718242, 0.77292531]]])"
      ]
     },
     "execution_count": 64,
     "metadata": {},
     "output_type": "execute_result"
    }
   ],
   "source": [
    "a1"
   ]
  },
  {
   "cell_type": "code",
   "execution_count": 65,
   "id": "f0ee14ea-0dfb-44fd-b582-51ec481ac4d7",
   "metadata": {},
   "outputs": [
    {
     "data": {
      "text/plain": [
       "array([[[0.70719333, 0.88756143],\n",
       "        [0.19889278, 0.95126084],\n",
       "        [0.5729411 , 0.14047214]],\n",
       "\n",
       "       [[0.51761793, 0.85307453],\n",
       "        [0.76467352, 0.95184827],\n",
       "        [0.9819389 , 0.24213807]]])"
      ]
     },
     "execution_count": 65,
     "metadata": {},
     "output_type": "execute_result"
    }
   ],
   "source": [
    "a2"
   ]
  },
  {
   "cell_type": "markdown",
   "id": "0575e800-beb9-428a-bf9e-603b277197bd",
   "metadata": {},
   "source": [
    "#### Basic Math Operation"
   ]
  },
  {
   "cell_type": "code",
   "execution_count": 66,
   "id": "83e9a06b-a836-4bb0-a52a-1e9baca0fb52",
   "metadata": {},
   "outputs": [
    {
     "data": {
      "text/plain": [
       "array([[[1.59419657, 1.04287693],\n",
       "        [1.02981002, 1.58003388],\n",
       "        [0.78708669, 0.62929918]],\n",
       "\n",
       "       [[1.20370621, 1.45414766],\n",
       "        [1.7331877 , 1.93722428],\n",
       "        [1.20912132, 1.01506338]]])"
      ]
     },
     "execution_count": 66,
     "metadata": {},
     "output_type": "execute_result"
    }
   ],
   "source": [
    "np.add(a1,a2) #numpy always function element wise"
   ]
  },
  {
   "cell_type": "code",
   "execution_count": 67,
   "id": "6e3e04ec-4a21-4487-a4c8-6cf1d50c8577",
   "metadata": {},
   "outputs": [
    {
     "data": {
      "text/plain": [
       "array([[[ 0.17980991, -0.73224593],\n",
       "        [ 0.63202445, -0.32248781],\n",
       "        [-0.3587955 ,  0.3483549 ]],\n",
       "\n",
       "       [[ 0.16847035, -0.25200139],\n",
       "        [ 0.20384065,  0.03352773],\n",
       "        [-0.75475649,  0.53078725]]])"
      ]
     },
     "execution_count": 67,
     "metadata": {},
     "output_type": "execute_result"
    }
   ],
   "source": [
    "np.subtract(a1,a2)"
   ]
  },
  {
   "cell_type": "code",
   "execution_count": 68,
   "id": "2c28bab7-5842-4740-ae58-1bea71f0f83b",
   "metadata": {},
   "outputs": [
    {
     "data": {
      "text/plain": [
       "array([[[1.25425849, 0.17499127],\n",
       "        [4.17771438, 0.66098909],\n",
       "        [0.37376547, 3.47988598]],\n",
       "\n",
       "       [[1.32547241, 0.70459627],\n",
       "        [1.26657213, 1.03522382],\n",
       "        [0.23136105, 3.1920851 ]]])"
      ]
     },
     "execution_count": 68,
     "metadata": {},
     "output_type": "execute_result"
    }
   ],
   "source": [
    "np.divide(a1,a2)"
   ]
  },
  {
   "cell_type": "code",
   "execution_count": 70,
   "id": "071af8d0-f75b-4797-9ded-621fe663b3ac",
   "metadata": {},
   "outputs": [
    {
     "data": {
      "text/plain": [
       "array([[[0.62728277, 0.13785205],\n",
       "        [0.16526344, 0.59812717],\n",
       "        [0.12269281, 0.06866658]],\n",
       "\n",
       "       [[0.35513159, 0.51276018],\n",
       "        [0.74059715, 0.93792845],\n",
       "        [0.22307925, 0.18715464]]])"
      ]
     },
     "execution_count": 70,
     "metadata": {},
     "output_type": "execute_result"
    }
   ],
   "source": [
    "np.multiply(a1,a2)"
   ]
  },
  {
   "cell_type": "markdown",
   "id": "c5bcdcc4-8be4-4c2d-96da-e41e54b07618",
   "metadata": {},
   "source": [
    "## Statstical operations"
   ]
  },
  {
   "cell_type": "code",
   "execution_count": 71,
   "id": "d47bb376-9cb7-47ed-a1cc-b0763224a38c",
   "metadata": {},
   "outputs": [],
   "source": [
    "sqrt=np.sqrt(25)\n",
    "abs=np.abs(-2)\n",
    "power=np.power(2,8)\n",
    "log=np.log(25)\n",
    "mins=np.min(a1)\n",
    "max=np.max(a2)"
   ]
  },
  {
   "cell_type": "code",
   "execution_count": 72,
   "id": "c73593c9-17e4-4bac-8621-85690d13dd8c",
   "metadata": {},
   "outputs": [
    {
     "data": {
      "text/plain": [
       "np.float64(5.0)"
      ]
     },
     "execution_count": 72,
     "metadata": {},
     "output_type": "execute_result"
    }
   ],
   "source": [
    "sqrt"
   ]
  },
  {
   "cell_type": "code",
   "execution_count": 73,
   "id": "b5a85b35-5a51-4442-b6d0-ed892207e8d9",
   "metadata": {},
   "outputs": [
    {
     "data": {
      "text/plain": [
       "np.int64(2)"
      ]
     },
     "execution_count": 73,
     "metadata": {},
     "output_type": "execute_result"
    }
   ],
   "source": [
    "abs"
   ]
  },
  {
   "cell_type": "code",
   "execution_count": 74,
   "id": "98feb4f8-9419-41b9-b29c-af0887983e04",
   "metadata": {},
   "outputs": [
    {
     "data": {
      "text/plain": [
       "np.int64(256)"
      ]
     },
     "execution_count": 74,
     "metadata": {},
     "output_type": "execute_result"
    }
   ],
   "source": [
    "power"
   ]
  },
  {
   "cell_type": "code",
   "execution_count": 75,
   "id": "996f2a88-21b4-451d-8937-30ee84dda085",
   "metadata": {},
   "outputs": [
    {
     "data": {
      "text/plain": [
       "np.float64(3.2188758248682006)"
      ]
     },
     "execution_count": 75,
     "metadata": {},
     "output_type": "execute_result"
    }
   ],
   "source": [
    "log"
   ]
  },
  {
   "cell_type": "code",
   "execution_count": 76,
   "id": "5f11fcec-d87c-4752-9ce1-3563987721f9",
   "metadata": {},
   "outputs": [
    {
     "data": {
      "text/plain": [
       "np.float64(0.15531550192557186)"
      ]
     },
     "execution_count": 76,
     "metadata": {},
     "output_type": "execute_result"
    }
   ],
   "source": [
    "mins"
   ]
  },
  {
   "cell_type": "code",
   "execution_count": 77,
   "id": "9058f26a-1242-441c-920c-11bdae011e19",
   "metadata": {},
   "outputs": [
    {
     "data": {
      "text/plain": [
       "np.float64(0.9819389023036132)"
      ]
     },
     "execution_count": 77,
     "metadata": {},
     "output_type": "execute_result"
    }
   ],
   "source": [
    "max"
   ]
  },
  {
   "cell_type": "code",
   "execution_count": null,
   "id": "5aa0d5e1-b93f-4fd7-9ebe-db4106442822",
   "metadata": {},
   "outputs": [],
   "source": []
  },
  {
   "cell_type": "markdown",
   "id": "8aab1f6d-947d-470c-8a85-13e0a7b7bf17",
   "metadata": {},
   "source": [
    "## update"
   ]
  },
  {
   "cell_type": "code",
   "execution_count": 78,
   "id": "ca4702fd-7e94-45d2-9e1d-1588653a6d8e",
   "metadata": {},
   "outputs": [
    {
     "data": {
      "text/plain": [
       "array([[[1, 4, 5],\n",
       "        [6, 7, 4]],\n",
       "\n",
       "       [[3, 5, 4],\n",
       "        [5, 8, 7]],\n",
       "\n",
       "       [[3, 2, 8],\n",
       "        [9, 4, 1]]])"
      ]
     },
     "execution_count": 78,
     "metadata": {},
     "output_type": "execute_result"
    }
   ],
   "source": [
    "arr3"
   ]
  },
  {
   "cell_type": "code",
   "execution_count": 81,
   "id": "6476a782-e3ae-4777-bbaa-acdd182e88e4",
   "metadata": {},
   "outputs": [
    {
     "data": {
      "text/plain": [
       "array([[[1, 4, 9],\n",
       "        [6, 7, 4]],\n",
       "\n",
       "       [[3, 5, 4],\n",
       "        [5, 8, 7]],\n",
       "\n",
       "       [[3, 2, 8],\n",
       "        [9, 4, 1]]])"
      ]
     },
     "execution_count": 81,
     "metadata": {},
     "output_type": "execute_result"
    }
   ],
   "source": [
    "arr3[0,0,2]=9\n",
    "arr3"
   ]
  },
  {
   "cell_type": "code",
   "execution_count": 83,
   "id": "1c434796-b2e7-4b34-9f69-e83c185b1bcd",
   "metadata": {},
   "outputs": [
    {
     "data": {
      "text/plain": [
       "array([[[1, 4, 9],\n",
       "        [4, 6, 7]],\n",
       "\n",
       "       [[3, 4, 5],\n",
       "        [5, 7, 8]],\n",
       "\n",
       "       [[2, 3, 8],\n",
       "        [1, 4, 9]]])"
      ]
     },
     "execution_count": 83,
     "metadata": {},
     "output_type": "execute_result"
    }
   ],
   "source": [
    "arr3.sort()\n",
    "arr3"
   ]
  },
  {
   "cell_type": "markdown",
   "id": "e09d0874-3db5-4431-9939-a322c8393e2b",
   "metadata": {},
   "source": [
    "## Reshape"
   ]
  },
  {
   "cell_type": "code",
   "execution_count": 84,
   "id": "6333d9ee-ee64-40b1-86df-4913f4a766ee",
   "metadata": {},
   "outputs": [
    {
     "data": {
      "text/plain": [
       "(3, 2, 3)"
      ]
     },
     "execution_count": 84,
     "metadata": {},
     "output_type": "execute_result"
    }
   ],
   "source": [
    "arr3.shape"
   ]
  },
  {
   "cell_type": "code",
   "execution_count": 91,
   "id": "f3e7727f-08b2-41d8-bce2-236dc9b27345",
   "metadata": {},
   "outputs": [
    {
     "data": {
      "text/plain": [
       "array([[[1, 4, 9],\n",
       "        [4, 6, 7],\n",
       "        [3, 4, 5]],\n",
       "\n",
       "       [[5, 7, 8],\n",
       "        [2, 3, 8],\n",
       "        [1, 4, 9]]])"
      ]
     },
     "execution_count": 91,
     "metadata": {},
     "output_type": "execute_result"
    }
   ],
   "source": [
    "arr3_reshape = arr3.reshape((2,3,-1))\n",
    "arr3_reshape"
   ]
  },
  {
   "cell_type": "code",
   "execution_count": 92,
   "id": "ec6ae9e5-e6bd-4153-bf1e-02a2f1eeb817",
   "metadata": {},
   "outputs": [
    {
     "data": {
      "text/plain": [
       "(2, 3, 3)"
      ]
     },
     "execution_count": 92,
     "metadata": {},
     "output_type": "execute_result"
    }
   ],
   "source": [
    "arr3_reshape.shape"
   ]
  },
  {
   "cell_type": "code",
   "execution_count": null,
   "id": "6ea10905-c7cd-4414-8d03-a2466151826d",
   "metadata": {},
   "outputs": [],
   "source": []
  },
  {
   "cell_type": "markdown",
   "id": "ca1b118b-823f-47d5-9841-20332e39e632",
   "metadata": {},
   "source": [
    "## Appending and Inserting"
   ]
  },
  {
   "cell_type": "code",
   "execution_count": 93,
   "id": "615f0fc1-76c0-48a7-8593-a19ea00633c3",
   "metadata": {},
   "outputs": [
    {
     "data": {
      "text/plain": [
       "array([[[0., 0., 0.],\n",
       "        [0., 0., 0.]],\n",
       "\n",
       "       [[0., 0., 0.],\n",
       "        [0., 0., 0.]],\n",
       "\n",
       "       [[0., 0., 0.],\n",
       "        [0., 0., 0.]]])"
      ]
     },
     "execution_count": 93,
     "metadata": {},
     "output_type": "execute_result"
    }
   ],
   "source": [
    "zeroes"
   ]
  },
  {
   "cell_type": "code",
   "execution_count": 94,
   "id": "1f8519d9-f1b2-47fb-bf00-45c475b46669",
   "metadata": {},
   "outputs": [
    {
     "data": {
      "text/plain": [
       "array([[[1., 1., 1.],\n",
       "        [1., 1., 1.]],\n",
       "\n",
       "       [[1., 1., 1.],\n",
       "        [1., 1., 1.]],\n",
       "\n",
       "       [[1., 1., 1.],\n",
       "        [1., 1., 1.]]])"
      ]
     },
     "execution_count": 94,
     "metadata": {},
     "output_type": "execute_result"
    }
   ],
   "source": [
    "new_array= np.ones((3,2,3))\n",
    "new_array"
   ]
  },
  {
   "cell_type": "code",
   "execution_count": 107,
   "id": "5c45900f-e6f3-47dd-a0ae-3a517fd4ecd3",
   "metadata": {},
   "outputs": [
    {
     "data": {
      "text/plain": [
       "array([[[0., 0., 0.],\n",
       "        [0., 0., 0.]],\n",
       "\n",
       "       [[0., 0., 0.],\n",
       "        [0., 0., 0.]],\n",
       "\n",
       "       [[0., 0., 0.],\n",
       "        [0., 0., 0.]],\n",
       "\n",
       "       [[1., 1., 1.],\n",
       "        [1., 1., 1.]],\n",
       "\n",
       "       [[1., 1., 1.],\n",
       "        [1., 1., 1.]],\n",
       "\n",
       "       [[1., 1., 1.],\n",
       "        [1., 1., 1.]]])"
      ]
     },
     "execution_count": 107,
     "metadata": {},
     "output_type": "execute_result"
    }
   ],
   "source": [
    "appd = np.append(zeroes, new_array, axis=0) #axis=0 => row, axis=1 => col\n",
    "appd"
   ]
  },
  {
   "cell_type": "markdown",
   "id": "d116a039-f24c-4959-94cc-2e263991718a",
   "metadata": {},
   "source": [
    "##### Insert "
   ]
  },
  {
   "cell_type": "code",
   "execution_count": 101,
   "id": "c428840b-6c56-4aba-b324-0a95837c0384",
   "metadata": {},
   "outputs": [
    {
     "data": {
      "text/plain": [
       "array([[[0., 0., 0.],\n",
       "        [0., 0., 0.]],\n",
       "\n",
       "       [[0., 0., 0.],\n",
       "        [0., 0., 0.]],\n",
       "\n",
       "       [[0., 0., 0.],\n",
       "        [0., 0., 0.]]])"
      ]
     },
     "execution_count": 101,
     "metadata": {},
     "output_type": "execute_result"
    }
   ],
   "source": [
    "zeroes"
   ]
  },
  {
   "cell_type": "code",
   "execution_count": 102,
   "id": "7402a9b7-3257-4f45-a04a-4490168715d3",
   "metadata": {},
   "outputs": [
    {
     "data": {
      "text/plain": [
       "array([[[1., 1., 1.],\n",
       "        [1., 1., 1.]],\n",
       "\n",
       "       [[1., 1., 1.],\n",
       "        [1., 1., 1.]],\n",
       "\n",
       "       [[1., 1., 1.],\n",
       "        [1., 1., 1.]]])"
      ]
     },
     "execution_count": 102,
     "metadata": {},
     "output_type": "execute_result"
    }
   ],
   "source": [
    "new_array"
   ]
  },
  {
   "cell_type": "code",
   "execution_count": 105,
   "id": "2b1e3bd9-2b15-4d95-8e50-d208474c2d7a",
   "metadata": {
    "scrolled": true
   },
   "outputs": [
    {
     "data": {
      "text/plain": [
       "array([[[0., 0., 0.],\n",
       "        [0., 0., 0.]],\n",
       "\n",
       "       [[0., 0., 0.],\n",
       "        [0., 0., 0.]],\n",
       "\n",
       "       [[1., 1., 1.],\n",
       "        [1., 1., 1.]],\n",
       "\n",
       "       [[1., 1., 1.],\n",
       "        [1., 1., 1.]],\n",
       "\n",
       "       [[1., 1., 1.],\n",
       "        [1., 1., 1.]],\n",
       "\n",
       "       [[0., 0., 0.],\n",
       "        [0., 0., 0.]]])"
      ]
     },
     "execution_count": 105,
     "metadata": {},
     "output_type": "execute_result"
    }
   ],
   "source": [
    "inserted_array = np.insert(zeroes, 2, new_array, axis=0)\n",
    "inserted_array"
   ]
  },
  {
   "cell_type": "markdown",
   "id": "b13dd18d-dea2-4b92-bfa9-df50cd43dac7",
   "metadata": {},
   "source": [
    "#### Delete"
   ]
  },
  {
   "cell_type": "code",
   "execution_count": 109,
   "id": "e9de96c8-4f3f-4b51-982a-648ac0c02d7f",
   "metadata": {},
   "outputs": [
    {
     "data": {
      "text/plain": [
       "array([[[0.79638576, 0.78516668, 0.48549132],\n",
       "        [0.58112421, 0.20186605, 0.566229  ]],\n",
       "\n",
       "       [[0.07128829, 0.89314218, 0.19196356],\n",
       "        [0.90400122, 0.38266249, 0.45852551]],\n",
       "\n",
       "       [[0.29319937, 0.68263983, 0.03924449],\n",
       "        [0.07792085, 0.03286082, 0.95099967]]])"
      ]
     },
     "execution_count": 109,
     "metadata": {},
     "output_type": "execute_result"
    }
   ],
   "source": [
    "arr4= np.random.rand(3,2,3)\n",
    "arr4"
   ]
  },
  {
   "cell_type": "code",
   "execution_count": 110,
   "id": "160bc116-e22f-43a9-af25-2f499a61ca36",
   "metadata": {},
   "outputs": [
    {
     "data": {
      "text/plain": [
       "array([[[0.58112421, 0.20186605, 0.566229  ]],\n",
       "\n",
       "       [[0.90400122, 0.38266249, 0.45852551]],\n",
       "\n",
       "       [[0.07792085, 0.03286082, 0.95099967]]])"
      ]
     },
     "execution_count": 110,
     "metadata": {},
     "output_type": "execute_result"
    }
   ],
   "source": [
    "arr5=np.delete(arr4,0,axis=1)\n",
    "arr5"
   ]
  },
  {
   "cell_type": "code",
   "execution_count": 112,
   "id": "f0bb362b-e67a-4997-aba2-99749a271408",
   "metadata": {},
   "outputs": [],
   "source": [
    "np.save(\"new_array\", arr5)"
   ]
  },
  {
   "cell_type": "code",
   "execution_count": 113,
   "id": "62d588ca-6edc-41e4-a2b9-5b588a2b3cfb",
   "metadata": {},
   "outputs": [
    {
     "data": {
      "text/plain": [
       "array([[[0.58112421, 0.20186605, 0.566229  ]],\n",
       "\n",
       "       [[0.90400122, 0.38266249, 0.45852551]],\n",
       "\n",
       "       [[0.07792085, 0.03286082, 0.95099967]]])"
      ]
     },
     "execution_count": 113,
     "metadata": {},
     "output_type": "execute_result"
    }
   ],
   "source": [
    "np.load('new_array.npy')"
   ]
  },
  {
   "cell_type": "code",
   "execution_count": null,
   "id": "0975fa7c-352c-45e6-9a3b-76f327d61cd7",
   "metadata": {},
   "outputs": [],
   "source": []
  }
 ],
 "metadata": {
  "kernelspec": {
   "display_name": "Python 3 (ipykernel)",
   "language": "python",
   "name": "python3"
  },
  "language_info": {
   "codemirror_mode": {
    "name": "ipython",
    "version": 3
   },
   "file_extension": ".py",
   "mimetype": "text/x-python",
   "name": "python",
   "nbconvert_exporter": "python",
   "pygments_lexer": "ipython3",
   "version": "3.13.5"
  }
 },
 "nbformat": 4,
 "nbformat_minor": 5
}
